{
 "cells": [
  {
   "cell_type": "code",
   "execution_count": 16,
   "metadata": {},
   "outputs": [],
   "source": [
    "import os\n",
    "import gzip\n",
    "import pickle\n",
    "import numpy as np\n",
    "import torch\n",
    "from urllib.request import urlretrieve\n",
    "import matplotlib.pyplot as plt\n",
    "from tqdm import tqdm\n",
    "from ebm.model import Network\n",
    "import networkx as nx\n",
    "from ebm.external_world import ExternalWorld, MNISTExternalWorld\n",
    "\n",
    "\n",
    "\n",
    "def plot_network_structure(net: Network):\n",
    "    G = nx.DiGraph()\n",
    "    layer_labels = ['Input'] + [f'Hidden {i+1}' for i in range(len(net.hyperparameters[\"hidden_sizes\"]))] + ['Output']\n",
    "\n",
    "    # Add nodes explicitly with subset attribute\n",
    "    for layer_idx, layer_label in enumerate(layer_labels):\n",
    "        layer_size = net.weights[0].shape[0] if layer_idx == 0 else net.weights[layer_idx - 1].shape[1]\n",
    "        for neuron_idx in range(layer_size):\n",
    "            G.add_node((layer_label, neuron_idx), subset=layer_idx)\n",
    "\n",
    "    # Add edges\n",
    "    for idx, W in enumerate(net.weights):\n",
    "        for i in range(W.shape[0]):\n",
    "            for j in range(W.shape[1]):\n",
    "                G.add_edge((layer_labels[idx], i), (layer_labels[idx + 1], j))\n",
    "\n",
    "    pos = nx.multipartite_layout(G)\n",
    "    plt.figure(figsize=(10, 6))\n",
    "    nx.draw(G, pos, with_labels=False, node_size=50, arrowsize=5)\n",
    "    plt.title(\"Network Structure\")\n",
    "    plt.show()\n",
    "\n",
    "def plot_network_weights(net: Network, epoch):\n",
    "    G = nx.DiGraph()\n",
    "    layer_labels = ['Input'] + [f'Hidden {i+1}' for i in range(len(net.hyperparameters[\"hidden_sizes\"]))] + ['Output']\n",
    "\n",
    "    for i, layer_size in enumerate([net.weights[0].shape[0]] + [w.shape[1] for w in net.weights]):\n",
    "        for n in range(layer_size):\n",
    "            G.add_node((layer_labels[i], n), subset=i)\n",
    "\n",
    "    for idx, W in enumerate(net.weights):\n",
    "        for i in range(W.shape[0]):\n",
    "            for j in range(W.shape[1]):\n",
    "                weight = W[i, j].item()\n",
    "                G.add_edge((layer_labels[idx], i), (layer_labels[idx+1], j), weight=weight)\n",
    "\n",
    "    pos = nx.multipartite_layout(G, subset_key='subset')\n",
    "    edge_weights = np.array([G[u][v]['weight'] for u, v in G.edges()])\n",
    "\n",
    "    plt.figure(figsize=(5, 2))\n",
    "    \n",
    "    # Normalize edge colors and explicitly create a ScalarMappable\n",
    "    norm = plt.Normalize(vmin=-np.max(np.abs(edge_weights)), vmax=np.max(np.abs(edge_weights)))\n",
    "    cmap = plt.cm.RdYlGn\n",
    "\n",
    "    edges = nx.draw_networkx_edges(G, pos, edge_color=edge_weights, edge_cmap=cmap, edge_vmin=norm.vmin, edge_vmax=norm.vmax, arrowsize=10)\n",
    "    nx.draw_networkx_nodes(G, pos, node_size=50, node_color='gray')\n",
    "\n",
    "    sm = plt.cm.ScalarMappable(cmap=cmap, norm=norm)\n",
    "    sm.set_array(edge_weights)\n",
    "    plt.colorbar(sm, label='Weight magnitude', ax = plt.gca())\n",
    "\n",
    "    plt.title(f\"Network Structure at Epoch {epoch}\")\n",
    "    plt.axis('off')\n",
    "    plt.show()\n"
   ]
  },
  {
   "cell_type": "code",
   "execution_count": 17,
   "metadata": {},
   "outputs": [],
   "source": [
    "def get_activation_deriv(name, x):\n",
    "    if name == \"relu\":\n",
    "        return (x > 0).float()\n",
    "    elif name == \"sigmoid\":\n",
    "        s = torch.sigmoid(x)\n",
    "        return s * (1 - s)\n",
    "    elif name == \"tanh\":\n",
    "        return 1 - torch.tanh(x) ** 2\n",
    "    elif name == \"pi\":  # derivative of x / (1 + |x|)\n",
    "        return 1 / (1 + x.abs()) ** 2\n",
    "    elif name == \"identity\":\n",
    "        return torch.ones_like(x)\n",
    "    else:\n",
    "        raise ValueError(f\"Unknown activation: {name}\")\n",
    "    \n",
    "\n",
    "def get_activation(name, x):\n",
    "    if name == \"relu\":\n",
    "        return F.relu(x)\n",
    "    elif name == \"sigmoid\":\n",
    "        return torch.sigmoid(x)\n",
    "    elif name == \"tanh\":\n",
    "        return torch.tanh(x)\n",
    "    elif name == \"pi\":  # soft piecewise identity\n",
    "        return x / (1 + x.abs())\n",
    "    elif name == \"identity\":\n",
    "        return x\n",
    "    else:\n",
    "        raise ValueError(f\"Unknown activation: {name}\")\n",
    "\n"
   ]
  },
  {
   "cell_type": "code",
   "execution_count": 18,
   "metadata": {},
   "outputs": [],
   "source": [
    "import numpy as np\n",
    "import torch\n",
    "import torch.nn.functional as F\n",
    "import matplotlib.pyplot as plt\n",
    "from tqdm import tqdm\n",
    "import networkx as nx\n",
    "import pickle\n",
    "from util.activation import *\n",
    "from util.energy import *\n",
    "\n",
    "\n",
    "def hopfield(layers, weights, biases):\n",
    "    \"\"\"Compute the energy function E for the current layers.\"\"\"\n",
    "    # squared_norm: for each layer, sum of squares of each row, then sum over layers.\n",
    "    squared_norm = sum([(layer * layer).sum(dim=1) for layer in layers]) / 2.0\n",
    "    # linear_terms: for each layer, compute dot(layer, bias).\n",
    "    linear_terms = -sum([torch.matmul(layer, b) for layer, b in zip(layers, biases)])\n",
    "    # quadratic_terms: for each adjacent pair of layers.\n",
    "    quadratic_terms = -sum([\n",
    "        ((torch.matmul(pre, W)) * post).sum(dim=1)\n",
    "        for pre, W, post in zip(layers[:-1], weights, layers[1:])\n",
    "    ])\n",
    "    return squared_norm + linear_terms + quadratic_terms\n",
    "\n",
    "# The correct energy function, assuming the layers attribute holds PREACTIVATED neuron values\n",
    "def bengio(layers, weights, biases, act_fn):\n",
    "    \"\"\"Compute the energy function E for the current layers.\"\"\"\n",
    "    # squared_norm: for each layer, sum of squares of each row, then sum over layers.\n",
    "    squared_norm = sum([(layer * layer).sum(dim=1) for layer in layers]) / 2.0\n",
    "    # linear_terms: for each layer, compute dot(layer, bias).\n",
    "    linear_terms = -sum([torch.matmul(act_fn(layer), b) for layer, b in zip(layers, biases)])\n",
    "    # quadratic_terms: for each adjacent pair of layers.\n",
    "    quadratic_terms = -sum([\n",
    "        ((torch.matmul(act_fn(pre), W)) * act_fn(post)).sum(dim=1)\n",
    "        for pre, W, post in zip(layers[:-1], weights, layers[1:])\n",
    "    ])\n",
    "    return squared_norm + linear_terms + quadratic_terms\n",
    "\n",
    "class Network:\n",
    "    def __init__(self, name, external_world, hyperparameters={}):\n",
    "        self.path = name + \".save\"\n",
    "        self.external_world = external_world\n",
    "        self.hyperparameters = hyperparameters\n",
    "\n",
    "        input_size = external_world.x.shape[1]\n",
    "        output_size = hyperparameters.get(\"output_size\", len(torch.unique(external_world.y)))\n",
    "        layer_sizes = [input_size] + hyperparameters[\"hidden_sizes\"] + [output_size]\n",
    "\n",
    "        self.biases, self.weights, self.training_curves = self._initialize_params(layer_sizes)\n",
    "        self.batch_size = hyperparameters[\"batch_size\"]\n",
    "        self.dataset_size = external_world.size_dataset\n",
    "        self.persistent_particles = [torch.zeros((self.dataset_size, size)) for size in layer_sizes[1:]]\n",
    "        self.index = 0\n",
    "        activation_name = hyperparameters.get(\"activation\", \"pi\")\n",
    "        self.activation = lambda x: get_activation(activation_name, x)\n",
    "        self.activation_deriv = lambda x: get_activation_deriv(activation_name, x)\n",
    "\n",
    "\n",
    "    def _initialize_params(self, layer_sizes):\n",
    "        biases = [torch.zeros(size) for size in layer_sizes]\n",
    "        weights = [torch.tensor(np.random.uniform(-np.sqrt(6 / (n_in + n_out)), \n",
    "                        np.sqrt(6 / (n_in + n_out)), (n_in, n_out)), dtype=torch.float32)\n",
    "                   for n_in, n_out in zip(layer_sizes[:-1], layer_sizes[1:])]\n",
    "        return biases, weights, {\"training error\": [], \"validation error\": []}\n",
    "\n",
    "    def update_mini_batch_index(self, index):\n",
    "        start, end = index * self.batch_size, (index + 1) * self.batch_size\n",
    "        self.x_data, self.y_data = self.external_world.x[start:end], self.external_world.y[start:end]\n",
    "        output_size = self.hyperparameters[\"output_size\"]\n",
    "        self.y_data_one_hot = F.one_hot(self.y_data, num_classes=output_size).float()\n",
    "        self.layers = [self.x_data] + [p[start:end] for p in self.persistent_particles]\n",
    "\n",
    "    def energy(self, layers):\n",
    "        \"\"\"Compute the energy function E for the current layers.\"\"\"\n",
    "        energy_fn = self.hyperparameters[\"energy_fn\"] if \"energy_fn\" in self.hyperparameters else \"hopfield\"\n",
    "\n",
    "        if energy_fn == 'none':\n",
    "            pass\n",
    "        elif energy_fn == 'hopfield':\n",
    "            return hopfield(layers, self.weights, self.biases)\n",
    "        elif energy_fn == 'bengio':\n",
    "            return bengio(layers, self.weights, self.biases, self.activation)\n",
    "        else:\n",
    "            raise ValueError('Unknown energy function type: {}'.format(energy_fn))\n",
    "\n",
    "    def cost(self, layers):\n",
    "        # Squared error cost between the last layer and the one-hot labels.\n",
    "        return ((layers[-1] - self.y_data_one_hot) ** 2).sum(dim=1)\n",
    "    \n",
    "    # def activation(self, neurons):\n",
    "    #     \"\"\"Compute the activation of the given neurons' values.\"\"\"\n",
    "    #     activation = self.hyperparameters[\"activation\"] if \"activation\" in self.hyperparameters else \"pi\"\n",
    "    #     return get_activation(activation, neurons)\n",
    "    \n",
    "    def measure(self):\n",
    "        \"\"\"Measure the average energy, cost, and error over the current mini-batch.\"\"\"\n",
    "        E = self.energy(self.layers).mean().item()\n",
    "        C = self.cost(self.layers).mean().item()\n",
    "        y_prediction = self.layers[-1].argmax(dim=1)\n",
    "        error = (y_prediction != self.y_data).float().mean().item()\n",
    "        return E, C, error\n",
    "    \n",
    "\n",
    "    def _update_layer_gradient(self, u_k, u_prev, u_next, W_prev, W_next, b_k, eta):\n",
    "        \"\"\"\n",
    "        Perform one gradient descent step on a hidden layer using the energy gradient.\n",
    "        \"\"\"\n",
    "        activation = self.activation\n",
    "        activation_deriv = self.activation_deriv\n",
    "\n",
    "        drive = torch.matmul(activation(u_prev), W_prev) + torch.matmul(activation(u_next), W_next.T) + b_k\n",
    "        grad = activation_deriv(u_k) * drive - u_k\n",
    "        return u_k - eta * grad\n",
    "    \n",
    "    def negative_phase(self, n_iterations, shape_self=None, eta=0.1):\n",
    "        \"\"\"\n",
    "        Perform negative phase: relax using energy gradient descent with unclamped output.\n",
    "        shape_self is an optional object that defines index and batch_size for slicing.\n",
    "        \"\"\"\n",
    "        if shape_self is None:\n",
    "            shape_self = self  # fallback to internal index and batch_size\n",
    "\n",
    "        layers = [self.x_data] + [layer.clone() for layer in self.layers[1:]]\n",
    "\n",
    "        for _ in range(n_iterations):\n",
    "            new_layers = [layers[0]]  # input clamped\n",
    "\n",
    "            for k in range(1, len(layers) - 1):\n",
    "                u_k = layers[k]\n",
    "                u_prev = layers[k - 1]\n",
    "                u_next = layers[k + 1]\n",
    "                W_prev = self.weights[k - 1]\n",
    "                W_next = self.weights[k]\n",
    "                b_k = self.biases[k]\n",
    "\n",
    "                u_k_updated = self._update_layer_gradient(u_k, u_prev, u_next, W_prev, W_next, b_k, eta)\n",
    "                new_layers.append(u_k_updated)\n",
    "\n",
    "            # Output layer forward pass\n",
    "            out_input = torch.matmul(new_layers[-1], self.weights[-1]) + self.biases[-1]\n",
    "            new_layers.append(self.activation(out_input))\n",
    "\n",
    "            layers = new_layers\n",
    "\n",
    "        # Use shape_self to determine slice\n",
    "        start = shape_self.index * shape_self.batch_size\n",
    "        end = (shape_self.index + 1) * shape_self.batch_size\n",
    "\n",
    "        for i in range(len(self.persistent_particles)):\n",
    "            self.persistent_particles[i][start:end] = layers[i + 1].detach()\n",
    "\n",
    "        self.layers = [self.x_data] + [p[start:end] for p in self.persistent_particles]\n",
    "\n",
    "\n",
    "    def positive_phase(self, n_iterations, *alphas, eta=0.1):\n",
    "        \"\"\"\n",
    "        Positive phase: relax with clamped output and update weights via free/clamped difference.\n",
    "        \"\"\"\n",
    "        batch_size = self.x_data.shape[0]\n",
    "        free_layers = self.layers\n",
    "        clamped_layers = [self.x_data] + [layer.clone().detach() for layer in self.layers[1:-1]]\n",
    "        clamped_layers.append(self.y_data_one_hot)\n",
    "\n",
    "        for _ in range(n_iterations):\n",
    "            new_layers = [clamped_layers[0]]\n",
    "            for k in range(1, len(clamped_layers) - 1):\n",
    "                u_k = clamped_layers[k]\n",
    "                u_prev = clamped_layers[k - 1]\n",
    "                u_next = clamped_layers[k + 1]\n",
    "                W_prev = self.weights[k - 1]\n",
    "                W_next = self.weights[k]\n",
    "                b_k = self.biases[k]\n",
    "\n",
    "                u_k_updated = self._update_layer_gradient(u_k, u_prev, u_next, W_prev, W_next, b_k, eta)\n",
    "                new_layers.append(u_k_updated)\n",
    "            new_layers.append(self.y_data_one_hot)  # keep output clamped\n",
    "            clamped_layers = new_layers\n",
    "\n",
    "        # Weight and bias update\n",
    "        Delta_layers = [clamped - free for clamped, free in zip(clamped_layers[1:], free_layers[1:])]\n",
    "        for i, delta in enumerate(Delta_layers, start=1):\n",
    "            self.biases[i] += alphas[i - 1] * delta.mean(dim=0)\n",
    "        for i, delta in enumerate(Delta_layers):\n",
    "            self.weights[i] += alphas[i] * (free_layers[i].T @ delta) / batch_size\n",
    "\n",
    "    def save_params(self):\n",
    "        biases_values = [b.detach().numpy() for b in self.biases]\n",
    "        weights_values = [W.detach().numpy() for W in self.weights]\n",
    "        to_dump = (biases_values, weights_values, self.hyperparameters, self.training_curves)\n",
    "        with open(self.path, \"wb\") as f:\n",
    "            pickle.dump(to_dump, f, protocol=pickle.HIGHEST_PROTOCOL)\n",
    "    \n",
    "    def __load_params(self, hyperparameters):\n",
    "        hyper = hyperparameters.copy()\n",
    "        if os.path.isfile(self.path):\n",
    "            with open(self.path, \"rb\") as f:\n",
    "                biases_values, weights_values, saved_hyper, training_curves = pickle.load(f)\n",
    "            saved_hyper.update(hyper)\n",
    "            hyper = saved_hyper\n",
    "        else:\n",
    "            layer_sizes = [28 * 28] + hyper[\"hidden_sizes\"] + [10]\n",
    "            biases_values = [np.zeros((size,), dtype=np.float32) for size in layer_sizes]\n",
    "            weights_values = []\n",
    "            # Glorot/Bengio weight initialization for each layer.\n",
    "            for n_in, n_out in zip(layer_sizes[:-1], layer_sizes[1:]):\n",
    "                limit = np.sqrt(6.0 / (n_in + n_out))\n",
    "                W = np.random.uniform(low=-limit, high=limit, size=(n_in, n_out)).astype(np.float32)\n",
    "                weights_values.append(W)\n",
    "            training_curves = {\"training error\": [], \"validation error\": []}\n",
    "        \n",
    "        # Convert loaded parameters to torch tensors.\n",
    "        biases = [torch.tensor(b, dtype=torch.float32) for b in biases_values]\n",
    "        weights = [torch.tensor(W, dtype=torch.float32) for W in weights_values]\n",
    "        return biases, weights, hyper, training_curves\n",
    "    def clamp(self, x_batch, y_batch=None):\n",
    "        \"\"\"Clamp x (and optionally y) and rebuild layers for a forward pass.\"\"\"\n",
    "        self.x_data = x_batch\n",
    "        self.y_data = y_batch if y_batch is not None else torch.zeros(x_batch.size(0), dtype=torch.long)\n",
    "        output_size = self.hyperparameters.get(\"output_size\", 10)\n",
    "        self.y_data_one_hot = F.one_hot(self.y_data, num_classes=output_size).float()\n",
    "        \n",
    "        # Create fresh internal state for evaluation (no persistent particles)\n",
    "        self.layers = [self.x_data]\n",
    "        for k in range(len(self.weights)):\n",
    "            size = self.weights[k].shape[1]  # output size of this layer\n",
    "            self.layers.append(torch.zeros((x_batch.size(0), size)))\n",
    "\n",
    "\n",
    "\n"
   ]
  },
  {
   "cell_type": "code",
   "execution_count": 19,
   "metadata": {},
   "outputs": [],
   "source": [
    "def evaluate_test_batch(net, n_samples=100, n_iter=20):\n",
    "    \"\"\"Evaluate test performance using a forward relaxation pass.\"\"\"\n",
    "    x_batch = net.external_world.x_test[:n_samples]\n",
    "    y_batch = net.external_world.y_test[:n_samples]\n",
    "\n",
    "    net.x_data = x_batch\n",
    "    net.y_data = y_batch\n",
    "\n",
    "    net.clamp(x_batch, None)\n",
    "    net.negative_phase(n_iterations=n_iter)\n",
    "\n",
    "    preds = net.layers[-1].argmax(dim=1)\n",
    "\n",
    "    print(preds.shape)\n",
    "    error = (preds != y_batch).float().mean().item()\n",
    "\n",
    "    return error * 100  # percent\n",
    "\n",
    "\n",
    "def train_net(net, plot_graph=False, test_every=1):\n",
    "    history = {\n",
    "        \"Energy\": [], \"Cost\": [], \"Error\": [],\n",
    "        \"TestError\": []\n",
    "    }\n",
    "\n",
    "    epochs = net.hyperparameters[\"n_epochs\"]\n",
    "    batch_size = net.hyperparameters[\"batch_size\"]\n",
    "    n_batches = net.dataset_size // batch_size\n",
    "    n_it_neg = net.hyperparameters[\"n_it_neg\"]\n",
    "    n_it_pos = net.hyperparameters[\"n_it_pos\"]\n",
    "    alphas = net.hyperparameters[\"alphas\"]\n",
    "\n",
    "    snapshot_epochs = np.linspace(0, epochs - 1, 5, dtype=int)\n",
    "\n",
    "    with tqdm(total=epochs, desc=\"Training Progress\", unit=\"epoch\") as epoch_bar:\n",
    "        for epoch in range(epochs):\n",
    "            for i in range(n_batches):\n",
    "                net.update_mini_batch_index(i)\n",
    "                net.negative_phase(n_it_neg)\n",
    "                net.positive_phase(n_it_pos, *alphas)\n",
    "\n",
    "            # Train stats\n",
    "            E, C, error = net.measure()\n",
    "            history[\"Energy\"].append(E)\n",
    "            history[\"Cost\"].append(C)\n",
    "            history[\"Error\"].append(error * 100)\n",
    "\n",
    "            # Test stats\n",
    "            if epoch % test_every == 0 or epoch == epochs - 1:\n",
    "                error_test = evaluate_test_batch(net)\n",
    "                history[\"TestError\"].append(error_test)\n",
    "            else:\n",
    "                history[\"TestError\"].append(None)\n",
    "\n",
    "            epoch_bar.set_description(\n",
    "                f\"Epoch {epoch+1}/{epochs} | E={E:.2f} C={C:.5f} TrainErr={error*100:.2f}%\"\n",
    "                + (f\" TestErr={error_test:.2f}%\" if epoch % test_every == 0 else \"\")\n",
    "            )\n",
    "            epoch_bar.update(1)\n",
    "\n",
    "            if plot_graph and epoch in snapshot_epochs:\n",
    "                plot_network_weights(net, epoch)\n",
    "\n",
    "    # Plot results\n",
    "    fig, axes = plt.subplots(1, 2, figsize=(12, 4))\n",
    "    \n",
    "    axes[0].plot(history[\"Error\"], label=\"Train Error\", color=\"red\", linestyle=\"-\")\n",
    "    axes[0].plot([e for e in history[\"TestError\"] if e is not None], label=\"Test Error\", color=\"red\", linestyle=\"--\")\n",
    "    axes[0].set_title(\"Error over Epochs\")\n",
    "    axes[0].legend()\n",
    "\n",
    "    axes[1].plot(history[\"Energy\"], label=\"Energy\", color=\"blue\")\n",
    "    axes[1].set_title(\"Energy over Epochs\")\n",
    "    axes[1].legend()\n",
    "\n",
    "    plt.tight_layout()\n",
    "    plt.show();\n",
    "\n",
    "    return history\n"
   ]
  },
  {
   "cell_type": "code",
   "execution_count": 24,
   "metadata": {},
   "outputs": [
    {
     "name": "stderr",
     "output_type": "stream",
     "text": [
      "Epoch 1/50 | E=45.27 C=0.51051 TrainErr=21.00% TestErr=22.00%:   2%|▏         | 1/50 [00:00<00:12,  4.01epoch/s]"
     ]
    },
    {
     "name": "stdout",
     "output_type": "stream",
     "text": [
      "torch.Size([100])\n"
     ]
    },
    {
     "name": "stderr",
     "output_type": "stream",
     "text": [
      "Epoch 2/50 | E=45.39 C=0.36287 TrainErr=17.00% TestErr=22.00%:   4%|▍         | 2/50 [00:00<00:10,  4.42epoch/s]"
     ]
    },
    {
     "name": "stdout",
     "output_type": "stream",
     "text": [
      "torch.Size([100])\n"
     ]
    },
    {
     "name": "stderr",
     "output_type": "stream",
     "text": [
      "Epoch 3/50 | E=45.47 C=0.30490 TrainErr=15.00% TestErr=23.00%:   6%|▌         | 3/50 [00:00<00:10,  4.29epoch/s]"
     ]
    },
    {
     "name": "stdout",
     "output_type": "stream",
     "text": [
      "torch.Size([100])\n"
     ]
    },
    {
     "name": "stderr",
     "output_type": "stream",
     "text": [
      "Epoch 4/50 | E=45.53 C=0.27589 TrainErr=13.00% TestErr=22.00%:   8%|▊         | 4/50 [00:00<00:10,  4.49epoch/s]"
     ]
    },
    {
     "name": "stdout",
     "output_type": "stream",
     "text": [
      "torch.Size([100])\n"
     ]
    },
    {
     "name": "stderr",
     "output_type": "stream",
     "text": [
      "Epoch 5/50 | E=45.57 C=0.26011 TrainErr=12.00% TestErr=22.00%:  10%|█         | 5/50 [00:01<00:10,  4.44epoch/s]"
     ]
    },
    {
     "name": "stdout",
     "output_type": "stream",
     "text": [
      "torch.Size([100])\n"
     ]
    },
    {
     "name": "stderr",
     "output_type": "stream",
     "text": [
      "Epoch 6/50 | E=45.60 C=0.25045 TrainErr=12.00% TestErr=23.00%:  12%|█▏        | 6/50 [00:01<00:09,  4.55epoch/s]"
     ]
    },
    {
     "name": "stdout",
     "output_type": "stream",
     "text": [
      "torch.Size([100])\n"
     ]
    },
    {
     "name": "stderr",
     "output_type": "stream",
     "text": [
      "Epoch 7/50 | E=45.62 C=0.24432 TrainErr=11.00% TestErr=24.00%:  14%|█▍        | 7/50 [00:01<00:09,  4.31epoch/s]"
     ]
    },
    {
     "name": "stdout",
     "output_type": "stream",
     "text": [
      "torch.Size([100])\n"
     ]
    },
    {
     "name": "stderr",
     "output_type": "stream",
     "text": [
      "Epoch 8/50 | E=45.63 C=0.24018 TrainErr=10.00% TestErr=27.00%:  16%|█▌        | 8/50 [00:01<00:09,  4.35epoch/s]"
     ]
    },
    {
     "name": "stdout",
     "output_type": "stream",
     "text": [
      "torch.Size([100])\n"
     ]
    },
    {
     "name": "stderr",
     "output_type": "stream",
     "text": [
      "Epoch 9/50 | E=45.64 C=0.23723 TrainErr=11.00% TestErr=30.00%:  18%|█▊        | 9/50 [00:02<00:09,  4.34epoch/s]"
     ]
    },
    {
     "name": "stdout",
     "output_type": "stream",
     "text": [
      "torch.Size([100])\n"
     ]
    },
    {
     "name": "stderr",
     "output_type": "stream",
     "text": [
      "Epoch 10/50 | E=45.65 C=0.23503 TrainErr=10.00% TestErr=32.00%:  20%|██        | 10/50 [00:02<00:09,  4.41epoch/s]"
     ]
    },
    {
     "name": "stdout",
     "output_type": "stream",
     "text": [
      "torch.Size([100])\n"
     ]
    },
    {
     "name": "stderr",
     "output_type": "stream",
     "text": [
      "Epoch 11/50 | E=45.66 C=0.23333 TrainErr=11.00% TestErr=31.00%:  22%|██▏       | 11/50 [00:02<00:09,  4.33epoch/s]"
     ]
    },
    {
     "name": "stdout",
     "output_type": "stream",
     "text": [
      "torch.Size([100])\n"
     ]
    },
    {
     "name": "stderr",
     "output_type": "stream",
     "text": [
      "Epoch 12/50 | E=45.67 C=0.23197 TrainErr=11.00% TestErr=30.00%:  24%|██▍       | 12/50 [00:02<00:08,  4.27epoch/s]"
     ]
    },
    {
     "name": "stdout",
     "output_type": "stream",
     "text": [
      "torch.Size([100])\n"
     ]
    },
    {
     "name": "stderr",
     "output_type": "stream",
     "text": [
      "Epoch 13/50 | E=45.67 C=0.23085 TrainErr=11.00% TestErr=29.00%:  26%|██▌       | 13/50 [00:02<00:08,  4.36epoch/s]"
     ]
    },
    {
     "name": "stdout",
     "output_type": "stream",
     "text": [
      "torch.Size([100])\n"
     ]
    },
    {
     "name": "stderr",
     "output_type": "stream",
     "text": [
      "Epoch 14/50 | E=45.68 C=0.22991 TrainErr=11.00% TestErr=29.00%:  28%|██▊       | 14/50 [00:03<00:08,  4.39epoch/s]"
     ]
    },
    {
     "name": "stdout",
     "output_type": "stream",
     "text": [
      "torch.Size([100])\n"
     ]
    },
    {
     "name": "stderr",
     "output_type": "stream",
     "text": [
      "Epoch 15/50 | E=45.68 C=0.22910 TrainErr=11.00% TestErr=28.00%:  30%|███       | 15/50 [00:03<00:07,  4.38epoch/s]"
     ]
    },
    {
     "name": "stdout",
     "output_type": "stream",
     "text": [
      "torch.Size([100])\n"
     ]
    },
    {
     "name": "stderr",
     "output_type": "stream",
     "text": [
      "Epoch 16/50 | E=45.69 C=0.22840 TrainErr=11.00% TestErr=30.00%:  32%|███▏      | 16/50 [00:03<00:07,  4.37epoch/s]"
     ]
    },
    {
     "name": "stdout",
     "output_type": "stream",
     "text": [
      "torch.Size([100])\n"
     ]
    },
    {
     "name": "stderr",
     "output_type": "stream",
     "text": [
      "Epoch 17/50 | E=45.69 C=0.22780 TrainErr=10.00% TestErr=29.00%:  34%|███▍      | 17/50 [00:03<00:07,  4.28epoch/s]"
     ]
    },
    {
     "name": "stdout",
     "output_type": "stream",
     "text": [
      "torch.Size([100])\n"
     ]
    },
    {
     "name": "stderr",
     "output_type": "stream",
     "text": [
      "Epoch 18/50 | E=45.70 C=0.22726 TrainErr=10.00% TestErr=32.00%:  36%|███▌      | 18/50 [00:04<00:07,  4.22epoch/s]"
     ]
    },
    {
     "name": "stdout",
     "output_type": "stream",
     "text": [
      "torch.Size([100])\n"
     ]
    },
    {
     "name": "stderr",
     "output_type": "stream",
     "text": [
      "Epoch 19/50 | E=45.70 C=0.22678 TrainErr=11.00% TestErr=32.00%:  38%|███▊      | 19/50 [00:04<00:07,  4.15epoch/s]"
     ]
    },
    {
     "name": "stdout",
     "output_type": "stream",
     "text": [
      "torch.Size([100])\n"
     ]
    },
    {
     "name": "stderr",
     "output_type": "stream",
     "text": [
      "Epoch 20/50 | E=45.70 C=0.22635 TrainErr=11.00% TestErr=34.00%:  40%|████      | 20/50 [00:04<00:07,  4.19epoch/s]"
     ]
    },
    {
     "name": "stdout",
     "output_type": "stream",
     "text": [
      "torch.Size([100])\n"
     ]
    },
    {
     "name": "stderr",
     "output_type": "stream",
     "text": [
      "Epoch 21/50 | E=45.71 C=0.22596 TrainErr=11.00% TestErr=32.00%:  42%|████▏     | 21/50 [00:04<00:06,  4.18epoch/s]"
     ]
    },
    {
     "name": "stdout",
     "output_type": "stream",
     "text": [
      "torch.Size([100])\n"
     ]
    },
    {
     "name": "stderr",
     "output_type": "stream",
     "text": [
      "Epoch 22/50 | E=45.71 C=0.22562 TrainErr=11.00% TestErr=33.00%:  44%|████▍     | 22/50 [00:05<00:06,  4.27epoch/s]"
     ]
    },
    {
     "name": "stdout",
     "output_type": "stream",
     "text": [
      "torch.Size([100])\n"
     ]
    },
    {
     "name": "stderr",
     "output_type": "stream",
     "text": [
      "Epoch 23/50 | E=45.71 C=0.22531 TrainErr=11.00% TestErr=33.00%:  46%|████▌     | 23/50 [00:05<00:06,  4.33epoch/s]"
     ]
    },
    {
     "name": "stdout",
     "output_type": "stream",
     "text": [
      "torch.Size([100])\n"
     ]
    },
    {
     "name": "stderr",
     "output_type": "stream",
     "text": [
      "Epoch 24/50 | E=45.71 C=0.22502 TrainErr=11.00% TestErr=33.00%:  48%|████▊     | 24/50 [00:05<00:06,  4.13epoch/s]"
     ]
    },
    {
     "name": "stdout",
     "output_type": "stream",
     "text": [
      "torch.Size([100])\n"
     ]
    },
    {
     "name": "stderr",
     "output_type": "stream",
     "text": [
      "Epoch 25/50 | E=45.72 C=0.22474 TrainErr=11.00% TestErr=34.00%:  50%|█████     | 25/50 [00:05<00:05,  4.24epoch/s]"
     ]
    },
    {
     "name": "stdout",
     "output_type": "stream",
     "text": [
      "torch.Size([100])\n"
     ]
    },
    {
     "name": "stderr",
     "output_type": "stream",
     "text": [
      "Epoch 26/50 | E=45.72 C=0.22447 TrainErr=11.00% TestErr=33.00%:  52%|█████▏    | 26/50 [00:06<00:05,  4.07epoch/s]"
     ]
    },
    {
     "name": "stdout",
     "output_type": "stream",
     "text": [
      "torch.Size([100])\n"
     ]
    },
    {
     "name": "stderr",
     "output_type": "stream",
     "text": [
      "Epoch 27/50 | E=45.72 C=0.22423 TrainErr=11.00% TestErr=33.00%:  54%|█████▍    | 27/50 [00:06<00:05,  4.00epoch/s]"
     ]
    },
    {
     "name": "stdout",
     "output_type": "stream",
     "text": [
      "torch.Size([100])\n"
     ]
    },
    {
     "name": "stderr",
     "output_type": "stream",
     "text": [
      "Epoch 28/50 | E=45.72 C=0.22402 TrainErr=11.00% TestErr=33.00%:  56%|█████▌    | 28/50 [00:06<00:05,  4.14epoch/s]"
     ]
    },
    {
     "name": "stdout",
     "output_type": "stream",
     "text": [
      "torch.Size([100])\n"
     ]
    },
    {
     "name": "stderr",
     "output_type": "stream",
     "text": [
      "Epoch 29/50 | E=45.73 C=0.22382 TrainErr=11.00% TestErr=33.00%:  58%|█████▊    | 29/50 [00:06<00:05,  4.09epoch/s]"
     ]
    },
    {
     "name": "stdout",
     "output_type": "stream",
     "text": [
      "torch.Size([100])\n"
     ]
    },
    {
     "name": "stderr",
     "output_type": "stream",
     "text": [
      "Epoch 30/50 | E=45.73 C=0.22364 TrainErr=11.00% TestErr=34.00%:  60%|██████    | 30/50 [00:07<00:05,  3.99epoch/s]"
     ]
    },
    {
     "name": "stdout",
     "output_type": "stream",
     "text": [
      "torch.Size([100])\n"
     ]
    },
    {
     "name": "stderr",
     "output_type": "stream",
     "text": [
      "Epoch 31/50 | E=45.73 C=0.22347 TrainErr=11.00% TestErr=34.00%:  62%|██████▏   | 31/50 [00:07<00:04,  3.92epoch/s]"
     ]
    },
    {
     "name": "stdout",
     "output_type": "stream",
     "text": [
      "torch.Size([100])\n"
     ]
    },
    {
     "name": "stderr",
     "output_type": "stream",
     "text": [
      "Epoch 32/50 | E=45.73 C=0.22329 TrainErr=11.00% TestErr=34.00%:  64%|██████▍   | 32/50 [00:07<00:04,  4.06epoch/s]"
     ]
    },
    {
     "name": "stdout",
     "output_type": "stream",
     "text": [
      "torch.Size([100])\n"
     ]
    },
    {
     "name": "stderr",
     "output_type": "stream",
     "text": [
      "Epoch 33/50 | E=45.73 C=0.22314 TrainErr=11.00% TestErr=34.00%:  66%|██████▌   | 33/50 [00:07<00:04,  4.03epoch/s]"
     ]
    },
    {
     "name": "stdout",
     "output_type": "stream",
     "text": [
      "torch.Size([100])\n"
     ]
    },
    {
     "name": "stderr",
     "output_type": "stream",
     "text": [
      "Epoch 34/50 | E=45.73 C=0.22299 TrainErr=11.00% TestErr=34.00%:  68%|██████▊   | 34/50 [00:08<00:04,  3.97epoch/s]"
     ]
    },
    {
     "name": "stdout",
     "output_type": "stream",
     "text": [
      "torch.Size([100])\n"
     ]
    },
    {
     "name": "stderr",
     "output_type": "stream",
     "text": [
      "Epoch 35/50 | E=45.74 C=0.22286 TrainErr=11.00% TestErr=33.00%:  70%|███████   | 35/50 [00:08<00:03,  3.93epoch/s]"
     ]
    },
    {
     "name": "stdout",
     "output_type": "stream",
     "text": [
      "torch.Size([100])\n"
     ]
    },
    {
     "name": "stderr",
     "output_type": "stream",
     "text": [
      "Epoch 36/50 | E=45.74 C=0.22274 TrainErr=11.00% TestErr=33.00%:  72%|███████▏  | 36/50 [00:08<00:03,  3.98epoch/s]"
     ]
    },
    {
     "name": "stdout",
     "output_type": "stream",
     "text": [
      "torch.Size([100])\n"
     ]
    },
    {
     "name": "stderr",
     "output_type": "stream",
     "text": [
      "Epoch 37/50 | E=45.74 C=0.22264 TrainErr=11.00% TestErr=35.00%:  74%|███████▍  | 37/50 [00:08<00:03,  4.11epoch/s]"
     ]
    },
    {
     "name": "stdout",
     "output_type": "stream",
     "text": [
      "torch.Size([100])\n"
     ]
    },
    {
     "name": "stderr",
     "output_type": "stream",
     "text": [
      "Epoch 38/50 | E=45.74 C=0.22254 TrainErr=11.00% TestErr=35.00%:  76%|███████▌  | 38/50 [00:09<00:02,  4.12epoch/s]"
     ]
    },
    {
     "name": "stdout",
     "output_type": "stream",
     "text": [
      "torch.Size([100])\n"
     ]
    },
    {
     "name": "stderr",
     "output_type": "stream",
     "text": [
      "Epoch 39/50 | E=45.74 C=0.22243 TrainErr=11.00% TestErr=35.00%:  78%|███████▊  | 39/50 [00:09<00:02,  4.19epoch/s]"
     ]
    },
    {
     "name": "stdout",
     "output_type": "stream",
     "text": [
      "torch.Size([100])\n"
     ]
    },
    {
     "name": "stderr",
     "output_type": "stream",
     "text": [
      "Epoch 40/50 | E=45.74 C=0.22234 TrainErr=11.00% TestErr=35.00%:  80%|████████  | 40/50 [00:09<00:02,  4.05epoch/s]"
     ]
    },
    {
     "name": "stdout",
     "output_type": "stream",
     "text": [
      "torch.Size([100])\n"
     ]
    },
    {
     "name": "stderr",
     "output_type": "stream",
     "text": [
      "Epoch 41/50 | E=45.74 C=0.22225 TrainErr=11.00% TestErr=34.00%:  82%|████████▏ | 41/50 [00:09<00:02,  4.02epoch/s]"
     ]
    },
    {
     "name": "stdout",
     "output_type": "stream",
     "text": [
      "torch.Size([100])\n"
     ]
    },
    {
     "name": "stderr",
     "output_type": "stream",
     "text": [
      "Epoch 42/50 | E=45.74 C=0.22217 TrainErr=11.00% TestErr=33.00%:  84%|████████▍ | 42/50 [00:10<00:01,  4.22epoch/s]"
     ]
    },
    {
     "name": "stdout",
     "output_type": "stream",
     "text": [
      "torch.Size([100])\n"
     ]
    },
    {
     "name": "stderr",
     "output_type": "stream",
     "text": [
      "Epoch 43/50 | E=45.74 C=0.22210 TrainErr=11.00% TestErr=32.00%:  86%|████████▌ | 43/50 [00:10<00:01,  4.22epoch/s]"
     ]
    },
    {
     "name": "stdout",
     "output_type": "stream",
     "text": [
      "torch.Size([100])\n"
     ]
    },
    {
     "name": "stderr",
     "output_type": "stream",
     "text": [
      "Epoch 44/50 | E=45.74 C=0.22203 TrainErr=11.00% TestErr=32.00%:  88%|████████▊ | 44/50 [00:10<00:01,  4.12epoch/s]"
     ]
    },
    {
     "name": "stdout",
     "output_type": "stream",
     "text": [
      "torch.Size([100])\n"
     ]
    },
    {
     "name": "stderr",
     "output_type": "stream",
     "text": [
      "Epoch 45/50 | E=45.75 C=0.22196 TrainErr=11.00% TestErr=35.00%:  90%|█████████ | 45/50 [00:10<00:01,  4.28epoch/s]"
     ]
    },
    {
     "name": "stdout",
     "output_type": "stream",
     "text": [
      "torch.Size([100])\n"
     ]
    },
    {
     "name": "stderr",
     "output_type": "stream",
     "text": [
      "Epoch 46/50 | E=45.75 C=0.22189 TrainErr=11.00% TestErr=35.00%:  92%|█████████▏| 46/50 [00:10<00:00,  4.20epoch/s]"
     ]
    },
    {
     "name": "stdout",
     "output_type": "stream",
     "text": [
      "torch.Size([100])\n"
     ]
    },
    {
     "name": "stderr",
     "output_type": "stream",
     "text": [
      "Epoch 47/50 | E=45.75 C=0.22182 TrainErr=11.00% TestErr=34.00%:  94%|█████████▍| 47/50 [00:11<00:00,  4.05epoch/s]"
     ]
    },
    {
     "name": "stdout",
     "output_type": "stream",
     "text": [
      "torch.Size([100])\n"
     ]
    },
    {
     "name": "stderr",
     "output_type": "stream",
     "text": [
      "Epoch 48/50 | E=45.75 C=0.22176 TrainErr=11.00% TestErr=34.00%:  96%|█████████▌| 48/50 [00:11<00:00,  4.13epoch/s]"
     ]
    },
    {
     "name": "stdout",
     "output_type": "stream",
     "text": [
      "torch.Size([100])\n"
     ]
    },
    {
     "name": "stderr",
     "output_type": "stream",
     "text": [
      "Epoch 49/50 | E=45.75 C=0.22171 TrainErr=11.00% TestErr=33.00%:  98%|█████████▊| 49/50 [00:11<00:00,  4.08epoch/s]"
     ]
    },
    {
     "name": "stdout",
     "output_type": "stream",
     "text": [
      "torch.Size([100])\n"
     ]
    },
    {
     "name": "stderr",
     "output_type": "stream",
     "text": [
      "Epoch 50/50 | E=45.75 C=0.22165 TrainErr=11.00% TestErr=34.00%: 100%|██████████| 50/50 [00:11<00:00,  4.18epoch/s]"
     ]
    },
    {
     "name": "stdout",
     "output_type": "stream",
     "text": [
      "torch.Size([100])\n"
     ]
    },
    {
     "name": "stderr",
     "output_type": "stream",
     "text": [
      "\n"
     ]
    },
    {
     "data": {
      "image/png": "[encoded data removed]",
      "text/plain": [
       "<Figure size 1200x400 with 2 Axes>"
      ]
     },
     "metadata": {},
     "output_type": "display_data"
    },
    {
     "data": {
      "text/plain": [
       "{'Energy': [45.26742172241211,\n",
       "  45.38581085205078,\n",
       "  45.47077941894531,\n",
       "  45.527652740478516,\n",
       "  45.5677375793457,\n",
       "  45.59589767456055,\n",
       "  45.616615295410156,\n",
       "  45.632266998291016,\n",
       "  45.64423370361328,\n",
       "  45.65351867675781,\n",
       "  45.66130447387695,\n",
       "  45.667999267578125,\n",
       "  45.67387771606445,\n",
       "  45.679080963134766,\n",
       "  45.683834075927734,\n",
       "  45.68828201293945,\n",
       "  45.692420959472656,\n",
       "  45.696266174316406,\n",
       "  45.69984817504883,\n",
       "  45.70320129394531,\n",
       "  45.706329345703125,\n",
       "  45.7092399597168,\n",
       "  45.71198272705078,\n",
       "  45.714599609375,\n",
       "  45.717079162597656,\n",
       "  45.719425201416016,\n",
       "  45.7216796875,\n",
       "  45.723846435546875,\n",
       "  45.725929260253906,\n",
       "  45.727909088134766,\n",
       "  45.729793548583984,\n",
       "  45.731536865234375,\n",
       "  45.7331657409668,\n",
       "  45.734718322753906,\n",
       "  45.73615264892578,\n",
       "  45.737449645996094,\n",
       "  45.73866653442383,\n",
       "  45.7397575378418,\n",
       "  45.740753173828125,\n",
       "  45.7417106628418,\n",
       "  45.74260330200195,\n",
       "  45.7433967590332,\n",
       "  45.744110107421875,\n",
       "  45.74470138549805,\n",
       "  45.74522018432617,\n",
       "  45.74565505981445,\n",
       "  45.74602127075195,\n",
       "  45.74631881713867,\n",
       "  45.74656295776367,\n",
       "  45.74675750732422],\n",
       " 'Cost': [0.510505735874176,\n",
       "  0.3628684878349304,\n",
       "  0.30490434169769287,\n",
       "  0.27588576078414917,\n",
       "  0.2601058781147003,\n",
       "  0.2504519522190094,\n",
       "  0.2443181574344635,\n",
       "  0.24017862975597382,\n",
       "  0.23723308742046356,\n",
       "  0.23503315448760986,\n",
       "  0.23333138227462769,\n",
       "  0.23196834325790405,\n",
       "  0.23085328936576843,\n",
       "  0.22990654408931732,\n",
       "  0.22909602522850037,\n",
       "  0.22840262949466705,\n",
       "  0.22779889404773712,\n",
       "  0.22726070880889893,\n",
       "  0.22678032517433167,\n",
       "  0.2263493686914444,\n",
       "  0.22596386075019836,\n",
       "  0.2256210446357727,\n",
       "  0.22530663013458252,\n",
       "  0.22501888871192932,\n",
       "  0.22473587095737457,\n",
       "  0.22446715831756592,\n",
       "  0.22422966361045837,\n",
       "  0.22401617467403412,\n",
       "  0.22381621599197388,\n",
       "  0.22363902628421783,\n",
       "  0.22346645593643188,\n",
       "  0.22329291701316833,\n",
       "  0.22313623130321503,\n",
       "  0.22299297153949738,\n",
       "  0.22286048531532288,\n",
       "  0.22274021804332733,\n",
       "  0.22263671457767487,\n",
       "  0.222538560628891,\n",
       "  0.2224348485469818,\n",
       "  0.22233593463897705,\n",
       "  0.2222508192062378,\n",
       "  0.2221701443195343,\n",
       "  0.2220962941646576,\n",
       "  0.22202976047992706,\n",
       "  0.22195743024349213,\n",
       "  0.22188682854175568,\n",
       "  0.2218245267868042,\n",
       "  0.2217632681131363,\n",
       "  0.22170665860176086,\n",
       "  0.22165359556674957],\n",
       " 'Error': [20.999999344348907,\n",
       "  17.000000178813934,\n",
       "  15.000000596046448,\n",
       "  12.999999523162842,\n",
       "  11.999999731779099,\n",
       "  11.999999731779099,\n",
       "  10.999999940395355,\n",
       "  10.000000149011612,\n",
       "  10.999999940395355,\n",
       "  10.000000149011612,\n",
       "  10.999999940395355,\n",
       "  10.999999940395355,\n",
       "  10.999999940395355,\n",
       "  10.999999940395355,\n",
       "  10.999999940395355,\n",
       "  10.999999940395355,\n",
       "  10.000000149011612,\n",
       "  10.000000149011612,\n",
       "  10.999999940395355,\n",
       "  10.999999940395355,\n",
       "  10.999999940395355,\n",
       "  10.999999940395355,\n",
       "  10.999999940395355,\n",
       "  10.999999940395355,\n",
       "  10.999999940395355,\n",
       "  10.999999940395355,\n",
       "  10.999999940395355,\n",
       "  10.999999940395355,\n",
       "  10.999999940395355,\n",
       "  10.999999940395355,\n",
       "  10.999999940395355,\n",
       "  10.999999940395355,\n",
       "  10.999999940395355,\n",
       "  10.999999940395355,\n",
       "  10.999999940395355,\n",
       "  10.999999940395355,\n",
       "  10.999999940395355,\n",
       "  10.999999940395355,\n",
       "  10.999999940395355,\n",
       "  10.999999940395355,\n",
       "  10.999999940395355,\n",
       "  10.999999940395355,\n",
       "  10.999999940395355,\n",
       "  10.999999940395355,\n",
       "  10.999999940395355,\n",
       "  10.999999940395355,\n",
       "  10.999999940395355,\n",
       "  10.999999940395355,\n",
       "  10.999999940395355,\n",
       "  10.999999940395355],\n",
       " 'TestError': [21.99999988079071,\n",
       "  21.99999988079071,\n",
       "  23.000000417232513,\n",
       "  21.99999988079071,\n",
       "  21.99999988079071,\n",
       "  23.000000417232513,\n",
       "  23.999999463558197,\n",
       "  27.000001072883606,\n",
       "  30.000001192092896,\n",
       "  31.999999284744263,\n",
       "  31.00000023841858,\n",
       "  30.000001192092896,\n",
       "  28.999999165534973,\n",
       "  28.999999165534973,\n",
       "  28.00000011920929,\n",
       "  30.000001192092896,\n",
       "  28.999999165534973,\n",
       "  31.999999284744263,\n",
       "  31.999999284744263,\n",
       "  34.00000035762787,\n",
       "  31.999999284744263,\n",
       "  33.000001311302185,\n",
       "  33.000001311302185,\n",
       "  33.000001311302185,\n",
       "  34.00000035762787,\n",
       "  33.000001311302185,\n",
       "  33.000001311302185,\n",
       "  33.000001311302185,\n",
       "  33.000001311302185,\n",
       "  34.00000035762787,\n",
       "  34.00000035762787,\n",
       "  34.00000035762787,\n",
       "  34.00000035762787,\n",
       "  34.00000035762787,\n",
       "  33.000001311302185,\n",
       "  33.000001311302185,\n",
       "  34.99999940395355,\n",
       "  34.99999940395355,\n",
       "  34.99999940395355,\n",
       "  34.99999940395355,\n",
       "  34.00000035762787,\n",
       "  33.000001311302185,\n",
       "  31.999999284744263,\n",
       "  31.999999284744263,\n",
       "  34.99999940395355,\n",
       "  34.99999940395355,\n",
       "  34.00000035762787,\n",
       "  34.00000035762787,\n",
       "  33.000001311302185,\n",
       "  34.00000035762787]}"
      ]
     },
     "execution_count": 24,
     "metadata": {},
     "output_type": "execute_result"
    }
   ],
   "source": [
    "import os\n",
    "import gzip\n",
    "import pickle\n",
    "import numpy as np\n",
    "import torch\n",
    "from urllib.request import urlretrieve\n",
    "import matplotlib.pyplot as plt\n",
    "from tqdm import tqdm\n",
    "import networkx as nx\n",
    "\n",
    "\n",
    "class ExternalWorld:\n",
    "    def __init__(self, n_per_class=5000, n_test_per_class=200, noise_std=0.02, seed=42):\n",
    "        \n",
    "        path = os.path.join(os.getcwd(), \"mnist.pkl.gz\")\n",
    "        if not os.path.isfile(path):\n",
    "            urlretrieve(\"http://www.iro.umontreal.ca/~lisa/deep/data/mnist/mnist.pkl.gz\", path)\n",
    "        with gzip.open(path, \"rb\") as f:\n",
    "            train, valid, test = pickle.load(f, encoding=\"latin1\")\n",
    "\n",
    "        x_all = np.vstack((train[0], valid[0], test[0]))\n",
    "        y_all = np.hstack((train[1], valid[1], test[1]))\n",
    "\n",
    "        np.random.seed(seed)\n",
    "\n",
    "        x_train_list, y_train_list = [], []\n",
    "        x_test_list, y_test_list = [], []\n",
    "\n",
    "        for digit in range(10):\n",
    "            idxs = np.where(y_all == digit)[0]\n",
    "            chosen = np.random.choice(idxs, n_per_class + n_test_per_class, replace=False)\n",
    "            x_train_list.append(x_all[chosen[:n_per_class]])\n",
    "            y_train_list.append(np.full(n_per_class, digit))\n",
    "            x_test_list.append(x_all[chosen[n_per_class:]])\n",
    "            y_test_list.append(np.full(n_test_per_class, digit))\n",
    "\n",
    "        x_train = np.vstack(x_train_list).astype(np.float32)\n",
    "        y_train = np.hstack(y_train_list).astype(np.int64)\n",
    "        x_test = np.vstack(x_test_list).astype(np.float32)\n",
    "        y_test = np.hstack(y_test_list).astype(np.int64)\n",
    "\n",
    "        # Shuffle training data\n",
    "        train_perm = np.random.permutation(len(x_train))\n",
    "        test_perm = np.random.permutation(len(x_test))\n",
    "\n",
    "        self.x = torch.tensor(x_train[train_perm])\n",
    "        self.y = torch.tensor(y_train[train_perm])\n",
    "        self.x_test = torch.tensor(x_test[test_perm])\n",
    "        self.y_test = torch.tensor(y_test[test_perm])\n",
    "        self.size_dataset = len(self.x)\n",
    "\n",
    "\n",
    "\n",
    "\n",
    "\n",
    "\n",
    "\n",
    "\n",
    "mnist_net = Network(\"mnist\", ExternalWorld(), {\n",
    "    \"hidden_sizes\": [256],\n",
    "    \"n_epochs\": 50,\n",
    "    \"batch_size\": 100,\n",
    "    \"energy_fn\": 'bengio',\n",
    "    \"n_it_neg\": 1,\n",
    "    \"n_it_pos\": 1,\n",
    "    \"alphas\": [np.float32(0.1), np.float32(0.5), np.float32(0.4)],\n",
    "    \"output_size\": 10,\n",
    "})\n",
    "# Initialize and train\n",
    "train_net(mnist_net)\n",
    "\n",
    "\n",
    "\n",
    "\n",
    "\n",
    "\n"
   ]
  },
  {
   "cell_type": "code",
   "execution_count": null,
   "metadata": {},
   "outputs": [],
   "source": [
    "import matplotlib.pyplot as plt\n",
    "\n",
    "class ShapeOverride:\n",
    "    def __init__(self, batch_size):\n",
    "        self.index = 0\n",
    "        self.batch_size = batch_size\n",
    "\n",
    "def show_predictions(net, test_x, test_y, n_samples=20, n_iter=20):\n",
    "    x_batch = test_x[:n_samples]\n",
    "    y_batch = test_y[:n_samples]\n",
    "\n",
    "    net.x_data = x_batch\n",
    "    net.y_data = y_batch\n",
    "\n",
    "    net.clamp(x_batch, None)\n",
    "\n",
    "    shape_override = ShapeOverride(n_samples)\n",
    "    net.negative_phase(n_iterations=n_iter, shape_self=shape_override)\n",
    "\n",
    "    output = net.layers[-1]\n",
    "    if output.ndim != 2 or output.shape[1] != 10:\n",
    "        print(f\"[WARNING] Unexpected output shape: {output.shape}\")\n",
    "\n",
    "    preds = output.argmax(dim=1).cpu().numpy()\n",
    "    true_labels = y_batch.cpu().numpy()\n",
    "    images = x_batch.view(-1, 28, 28).cpu().numpy()\n",
    "\n",
    "    # Set grid size: 10 per row\n",
    "    cols = 10\n",
    "    rows = (n_samples + cols - 1) // cols  # Ceiling division\n",
    "\n",
    "    fig, axes = plt.subplots(rows, cols, figsize=(1.5 * cols, 1.8 * rows))\n",
    "    axes = axes.flatten()\n",
    "\n",
    "    for i in range(n_samples):\n",
    "        axes[i].imshow(images[i], cmap=\"gray\")\n",
    "        axes[i].set_title(f\"P:{preds[i]}\\nT:{true_labels[i]}\", fontsize=8)\n",
    "        axes[i].axis(\"off\")\n",
    "\n",
    "    # Hide any extra unused subplots\n",
    "    for i in range(n_samples, len(axes)):\n",
    "        axes[i].axis(\"off\")\n",
    "\n",
    "    plt.suptitle(\"Model Predictions on Test Set\", fontsize=16)\n",
    "    plt.tight_layout()\n",
    "    plt.subplots_adjust(top=0.92)\n",
    "    plt.show()\n",
    "\n",
    "\n",
    "\n",
    "\n",
    "show_predictions(mnist_net, mnist_net.external_world.x_test, mnist_net.external_world.y_test)\n"
   ]
  },
  {
   "cell_type": "code",
   "execution_count": null,
   "metadata": {},
   "outputs": [],
   "source": []
  },
  {
   "cell_type": "code",
   "execution_count": null,
   "metadata": {},
   "outputs": [],
   "source": [
    "def mcmc_trajectory(net, x, n_steps=200, layer_noise_std=0.02):\n",
    "    \"\"\"\n",
    "    Clamp input x, run MCMC on hidden/output layers, and record energy over time.\n",
    "    \n",
    "    Args:\n",
    "        net: trained Network\n",
    "        x: input image, shape [1, input_dim]\n",
    "        n_steps: number of MCMC steps\n",
    "        layer_noise_std: proposal noise std for hidden/output layers\n",
    "\n",
    "    Returns:\n",
    "        energies: list of scalar energies\n",
    "        states: list of full layer states (e.g. for PCA)\n",
    "        preds: list of predicted class at each step\n",
    "    \"\"\"\n",
    "    with torch.no_grad():\n",
    "        x = x.view(1, -1)\n",
    "        weights = [W.clone() for W in net.weights]\n",
    "        biases = [b.clone() for b in net.biases]\n",
    "\n",
    "        # Initialize layers (x is clamped)\n",
    "        layers = [x] + [\n",
    "            torch.randn(1, b.shape[0]) * 0.01 for b in biases[1:]\n",
    "        ]\n",
    "        energies = []\n",
    "        preds = []\n",
    "        states = []\n",
    "\n",
    "        for step in range(n_steps):\n",
    "            proposal = [x]\n",
    "            for l in layers[1:]:\n",
    "                proposal.append(l + torch.randn_like(l) * layer_noise_std)\n",
    "            \n",
    "            E_current = hopfield(layers, weights, biases)\n",
    "            E_proposal = hopfield(proposal, weights, biases)\n",
    "\n",
    "            # Accept/reject\n",
    "            accept_prob = torch.exp(E_current - E_proposal)\n",
    "            if torch.rand(1) < accept_prob:\n",
    "                layers = proposal\n",
    "\n",
    "            # Log\n",
    "            energies.append(hopfield(layers, weights, biases).item())\n",
    "            preds.append(layers[-1].argmax(dim=1).item())\n",
    "            states.append(torch.cat(layers[1:], dim=1).squeeze().cpu().numpy())\n",
    "\n",
    "        return energies, preds, states\n"
   ]
  },
  {
   "cell_type": "code",
   "execution_count": null,
   "metadata": {},
   "outputs": [],
   "source": [
    "from collections import defaultdict\n",
    "\n",
    "def collect_mcmc_trajectories(net, samples_per_class=5, n_steps=200):\n",
    "    xs = net.external_world.x\n",
    "    ys = net.external_world.y\n",
    "    all_states = []\n",
    "    all_labels = []\n",
    "    all_preds = []\n",
    "\n",
    "    class_counts = defaultdict(int)\n",
    "    max_per_class = samples_per_class\n",
    "\n",
    "    for i in range(len(xs)):\n",
    "        label = ys[i].item()\n",
    "        if class_counts[label] >= max_per_class:\n",
    "            continue\n",
    "\n",
    "        x_sample = xs[i].unsqueeze(0)\n",
    "        energies, preds, states = mcmc_trajectory(net, x_sample, n_steps=n_steps)\n",
    "        \n",
    "        all_states.extend(states)\n",
    "        all_labels.extend([label] * len(states))\n",
    "        all_preds.extend(preds)\n",
    "        class_counts[label] += 1\n",
    "\n",
    "        if sum(class_counts.values()) >= samples_per_class * 22:\n",
    "            break\n",
    "\n",
    "    return np.array(all_states), np.array(all_labels), np.array(all_preds)\n"
   ]
  },
  {
   "cell_type": "code",
   "execution_count": null,
   "metadata": {},
   "outputs": [],
   "source": [
    "from sklearn.manifold import TSNE\n",
    "\n",
    "def plot_tsne(states, labels, title=\"MCMC t-SNE\"):\n",
    "    tsne = TSNE(n_components=2, perplexity=30, init='random', random_state=42)\n",
    "    reduced = tsne.fit_transform(states)\n",
    "\n",
    "    plt.figure(figsize=(10, 8))\n",
    "    scatter = plt.scatter(reduced[:, 0], reduced[:, 1], c=labels, cmap='tab20', s=5, alpha=0.8)\n",
    "    plt.colorbar(scatter, label=\"Original Class\")\n",
    "    plt.title(title)\n",
    "    plt.xlabel(\"t-SNE 1\")\n",
    "    plt.ylabel(\"t-SNE 2\")\n",
    "    plt.grid(True)\n",
    "    plt.show()\n"
   ]
  },
  {
   "cell_type": "code",
   "execution_count": null,
   "metadata": {},
   "outputs": [],
   "source": [
    "states, labels, preds = collect_mcmc_trajectories(mnist_net, samples_per_class=5, n_steps=20)\n",
    "plot_tsne(states, labels)\n"
   ]
  },
  {
   "cell_type": "code",
   "execution_count": null,
   "metadata": {},
   "outputs": [],
   "source": [
    "states, labels, preds = collect_mcmc_trajectories(mnist_net, samples_per_class=5, n_steps=500)\n",
    "plot_tsne(states, labels)\n"
   ]
  },
  {
   "cell_type": "code",
   "execution_count": null,
   "metadata": {},
   "outputs": [],
   "source": [
    "states, labels, preds = collect_mcmc_trajectories(mnist_net, samples_per_class=50, n_steps=50)\n",
    "plot_tsne(states, labels)\n"
   ]
  },
  {
   "cell_type": "markdown",
   "metadata": {},
   "source": []
  }
 ],
 "metadata": {
  "kernelspec": {
   "display_name": "base",
   "language": "python",
   "name": "python3"
  },
  "language_info": {
   "codemirror_mode": {
    "name": "ipython",
    "version": 3
   },
   "file_extension": ".py",
   "mimetype": "text/x-python",
   "name": "python",
   "nbconvert_exporter": "python",
   "pygments_lexer": "ipython3",
   "version": "3.11.0"
  }
 },
 "nbformat": 4,
 "nbformat_minor": 2
}
